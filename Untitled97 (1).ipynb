{
 "cells": [
  {
   "cell_type": "code",
   "execution_count": 1,
   "id": "e31c79e7-f43f-47eb-92ca-45d3f12e1703",
   "metadata": {},
   "outputs": [
    {
     "name": "stdout",
     "output_type": "stream",
     "text": [
      "Reshaped Array:\n",
      " [[ 1  2  3  4  5]\n",
      " [ 6  7  8  9 10]\n",
      " [11 12 13 14 15]]\n",
      "Row 2: [ 6  7  8  9 10]\n",
      "Column 4: [ 4  9 14]\n",
      "Rows 0 and 1:\n",
      " [[ 1  2  3  4  5]\n",
      " [ 6  7  8  9 10]]\n",
      "Columns 2 to 4:\n",
      " [[ 3  4  5]\n",
      " [ 8  9 10]\n",
      " [13 14 15]]\n",
      "Element in row 1 and column 4: 10\n",
      "Elements from rows 1 and 2, columns 0, 2, and 4:\n",
      " [[ 6  8 10]\n",
      " [11 13 15]]\n"
     ]
    }
   ],
   "source": [
    "#Exercise 7.9 by sriman\n",
    "import numpy as np\n",
    "\n",
    "# First off, let's create our array with numbers from 1 to 15\n",
    "array = np.arange(1, 16)\n",
    "\n",
    "# Now, we reshape this bad boy into a 3-by-5 array\n",
    "reshaped_array = array.reshape(3, 5)\n",
    "\n",
    "# Let's see what our array looks like now\n",
    "print(\"Reshaped Array:\\n\", reshaped_array)\n",
    "\n",
    "# a) If we want to grab the second row (remember, Python uses zero indexing)\n",
    "row_2 = reshaped_array[1]\n",
    "print(\"Row 2:\", row_2)\n",
    "\n",
    "# b) Need the fourth column? Easy!\n",
    "column_4 = reshaped_array[:, 3]\n",
    "print(\"Column 4:\", column_4)\n",
    "\n",
    "# c) How about the first two rows? Let's get those!\n",
    "rows_0_and_1 = reshaped_array[0:2]\n",
    "print(\"Rows 0 and 1:\\n\", rows_0_and_1)\n",
    "\n",
    "# d) Want columns 2 to 4? We can slice those out!\n",
    "columns_2_to_4 = reshaped_array[:, 2:5]\n",
    "print(\"Columns 2 to 4:\\n\", columns_2_to_4)\n",
    "\n",
    "# e) Let’s grab that element in row 1 and column 4\n",
    "element_row_1_col_4 = reshaped_array[1, 4]\n",
    "print(\"Element in row 1 and column 4:\", element_row_1_col_4)\n",
    "\n",
    "# f) Finally, if we want elements from rows 1 and 2 that are in columns 0, 2, and 4, here’s how!\n",
    "elements_rows_1_and_2_cols_0_2_4 = reshaped_array[1:3, [0, 2, 4]]\n",
    "print(\"Elements from rows 1 and 2, columns 0, 2, and 4:\\n\", elements_rows_1_and_2_cols_0_2_4)\n"
   ]
  },
  {
   "cell_type": "code",
   "execution_count": null,
   "id": "316a0c06-e176-4cc0-877d-ab4ddd6e8fcb",
   "metadata": {},
   "outputs": [],
   "source": []
  }
 ],
 "metadata": {
  "kernelspec": {
   "display_name": "Python 3 (ipykernel)",
   "language": "python",
   "name": "python3"
  },
  "language_info": {
   "codemirror_mode": {
    "name": "ipython",
    "version": 3
   },
   "file_extension": ".py",
   "mimetype": "text/x-python",
   "name": "python",
   "nbconvert_exporter": "python",
   "pygments_lexer": "ipython3",
   "version": "3.12.4"
  }
 },
 "nbformat": 4,
 "nbformat_minor": 5
}
